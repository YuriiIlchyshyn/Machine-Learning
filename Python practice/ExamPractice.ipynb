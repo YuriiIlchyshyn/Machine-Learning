{
 "cells": [
  {
   "cell_type": "markdown",
   "metadata": {},
   "source": [
    "# Зразок"
   ]
  },
  {
   "cell_type": "code",
   "execution_count": 1,
   "metadata": {},
   "outputs": [
    {
     "name": "stdout",
     "output_type": "stream",
     "text": [
      "[6, 7, 6, 9, 8, 7, 5, 6, 7, 9, 10, 11, 7, 12, 8]\n",
      "6\n",
      "7\n",
      "6\n",
      "9\n",
      "8\n",
      "7\n",
      "5\n",
      "6\n",
      "7\n",
      "9\n",
      "10\n",
      "11\n",
      "7\n",
      "12\n",
      "8\n",
      "--------------------------------------------\n",
      "118\n",
      "118\n",
      "0\n",
      "1\n",
      "2\n",
      "3\n",
      "4\n",
      "5\n",
      "6\n",
      "7\n",
      "8\n",
      "9\n",
      "10\n",
      "11\n",
      "12\n",
      "13\n",
      "14\n",
      "[6, 7, 6, 9, 8, 7, 5, 6, 7, 9, 10, 11, 7, 10, 8]\n"
     ]
    }
   ],
   "source": [
    "examMarks = [6,7,6,9,8,7,5,6,7,9,10,11,7,12,8]\n",
    "\n",
    "#Вивести всі змінні зі списку\n",
    "\n",
    "# 1 спосіб\n",
    "print(examMarks)\n",
    "# 2 спосіб\n",
    "for mark in examMarks:\n",
    "    print(mark)\n",
    "print(\"--------------------------------------------\")\n",
    "# Порахувати суму чисел в списку\n",
    "\n",
    "# 1 спосіб\n",
    "print(sum(examMarks))\n",
    "# 2 спосіб\n",
    "summa=0\n",
    "for mark in examMarks:\n",
    "    summa = summa + mark\n",
    "print(summa)\n",
    "\n",
    "# Якщо оцінка дорівнює 12 замінити її на 10\n",
    "counter = 0\n",
    "for mark in examMarks:\n",
    "    if(mark==12):\n",
    "         examMarks[counter] = 10\n",
    "    counter = counter + 1\n",
    "print(examMarks)"
   ]
  },
  {
   "cell_type": "markdown",
   "metadata": {},
   "source": [
    "# Homework"
   ]
  },
  {
   "cell_type": "code",
   "execution_count": 7,
   "metadata": {},
   "outputs": [
    {
     "name": "stdout",
     "output_type": "stream",
     "text": [
      "['Minecraft', 'LoL', 'Naruto Ninja Storm', 'Terraria']\n",
      "['Minecraft Deluxe Edition', 'LoL', 'Naruto Ninja Storm', 'Terraria']\n"
     ]
    }
   ],
   "source": [
    "# Дано список\n",
    "games = [\"Minecraft\",\"LoL\",\"Naruto Ninja Storm\",\"Terraria\"]\n",
    "# Вивести всі елменти\n",
    "print(games)\n",
    "# Якщо гра Minecraft замінити її назву на Minecraft Deluxe Edition\n",
    "name = 0\n",
    "for game in games:\n",
    "    if(game==\"Minecraft\"):\n",
    "         games[name] = 'Minecraft Deluxe Edition'\n",
    "    name = name + 1\n",
    "print(games)"
   ]
  },
  {
   "cell_type": "code",
   "execution_count": null,
   "metadata": {},
   "outputs": [],
   "source": []
  },
  {
   "cell_type": "code",
   "execution_count": null,
   "metadata": {},
   "outputs": [],
   "source": []
  }
 ],
 "metadata": {
  "kernelspec": {
   "display_name": "Python 3",
   "language": "python",
   "name": "python3"
  },
  "language_info": {
   "codemirror_mode": {
    "name": "ipython",
    "version": 3
   },
   "file_extension": ".py",
   "mimetype": "text/x-python",
   "name": "python",
   "nbconvert_exporter": "python",
   "pygments_lexer": "ipython3",
   "version": "3.7.6"
  }
 },
 "nbformat": 4,
 "nbformat_minor": 4
}
