{
 "cells": [
  {
   "cell_type": "code",
   "execution_count": 2,
   "metadata": {},
   "outputs": [
    {
     "data": {
      "text/html": [
       "<div>\n",
       "<style scoped>\n",
       "    .dataframe tbody tr th:only-of-type {\n",
       "        vertical-align: middle;\n",
       "    }\n",
       "\n",
       "    .dataframe tbody tr th {\n",
       "        vertical-align: top;\n",
       "    }\n",
       "\n",
       "    .dataframe thead th {\n",
       "        text-align: right;\n",
       "    }\n",
       "</style>\n",
       "<table border=\"1\" class=\"dataframe\">\n",
       "  <thead>\n",
       "    <tr style=\"text-align: right;\">\n",
       "      <th></th>\n",
       "      <th>оцінка</th>\n",
       "      <th>вчитель</th>\n",
       "    </tr>\n",
       "  </thead>\n",
       "  <tbody>\n",
       "    <tr>\n",
       "      <th>Геометрія</th>\n",
       "      <td>12</td>\n",
       "      <td>Роман</td>\n",
       "    </tr>\n",
       "    <tr>\n",
       "      <th>Алгебра</th>\n",
       "      <td>8</td>\n",
       "      <td>Галина</td>\n",
       "    </tr>\n",
       "    <tr>\n",
       "      <th>Хімія</th>\n",
       "      <td>10</td>\n",
       "      <td>Андрій</td>\n",
       "    </tr>\n",
       "    <tr>\n",
       "      <th>Фізика</th>\n",
       "      <td>6</td>\n",
       "      <td>Антон</td>\n",
       "    </tr>\n",
       "    <tr>\n",
       "      <th>Німецька</th>\n",
       "      <td>7</td>\n",
       "      <td>Ірина</td>\n",
       "    </tr>\n",
       "    <tr>\n",
       "      <th>Англійська</th>\n",
       "      <td>5</td>\n",
       "      <td>Григорій</td>\n",
       "    </tr>\n",
       "  </tbody>\n",
       "</table>\n",
       "</div>"
      ],
      "text/plain": [
       "            оцінка   вчитель\n",
       "Геометрія       12     Роман\n",
       "Алгебра          8    Галина\n",
       "Хімія           10    Андрій\n",
       "Фізика           6     Антон\n",
       "Німецька         7     Ірина\n",
       "Англійська       5  Григорій"
      ]
     },
     "execution_count": 2,
     "metadata": {},
     "output_type": "execute_result"
    }
   ],
   "source": [
    "import pandas as pd\n",
    "import matplotlib.pyplot as plt\n",
    "import seaborn as sns\n",
    "\n",
    "schoolMarks = pd.read_csv(\"school.csv\")\n",
    "schoolMarks"
   ]
  },
  {
   "cell_type": "code",
   "execution_count": 3,
   "metadata": {},
   "outputs": [
    {
     "data": {
      "text/plain": [
       "оцінка         7\n",
       "вчитель    Ірина\n",
       "Name: Німецька, dtype: object"
      ]
     },
     "execution_count": 3,
     "metadata": {},
     "output_type": "execute_result"
    }
   ],
   "source": [
    "schoolMarks.loc[\"Німецька\"]"
   ]
  },
  {
   "cell_type": "code",
   "execution_count": 4,
   "metadata": {},
   "outputs": [
    {
     "data": {
      "text/html": [
       "<div>\n",
       "<style scoped>\n",
       "    .dataframe tbody tr th:only-of-type {\n",
       "        vertical-align: middle;\n",
       "    }\n",
       "\n",
       "    .dataframe tbody tr th {\n",
       "        vertical-align: top;\n",
       "    }\n",
       "\n",
       "    .dataframe thead th {\n",
       "        text-align: right;\n",
       "    }\n",
       "</style>\n",
       "<table border=\"1\" class=\"dataframe\">\n",
       "  <thead>\n",
       "    <tr style=\"text-align: right;\">\n",
       "      <th></th>\n",
       "      <th>оцінка</th>\n",
       "      <th>вчитель</th>\n",
       "    </tr>\n",
       "  </thead>\n",
       "  <tbody>\n",
       "    <tr>\n",
       "      <th>Геометрія</th>\n",
       "      <td>12</td>\n",
       "      <td>Роман</td>\n",
       "    </tr>\n",
       "    <tr>\n",
       "      <th>Алгебра</th>\n",
       "      <td>8</td>\n",
       "      <td>Галина</td>\n",
       "    </tr>\n",
       "    <tr>\n",
       "      <th>Хімія</th>\n",
       "      <td>10</td>\n",
       "      <td>Андрій</td>\n",
       "    </tr>\n",
       "    <tr>\n",
       "      <th>Фізика</th>\n",
       "      <td>6</td>\n",
       "      <td>Антон</td>\n",
       "    </tr>\n",
       "    <tr>\n",
       "      <th>Німецька</th>\n",
       "      <td>7</td>\n",
       "      <td>Ірина</td>\n",
       "    </tr>\n",
       "  </tbody>\n",
       "</table>\n",
       "</div>"
      ],
      "text/plain": [
       "           оцінка вчитель\n",
       "Геометрія      12   Роман\n",
       "Алгебра         8  Галина\n",
       "Хімія          10  Андрій\n",
       "Фізика          6   Антон\n",
       "Німецька        7   Ірина"
      ]
     },
     "execution_count": 4,
     "metadata": {},
     "output_type": "execute_result"
    }
   ],
   "source": [
    "schoolMarks.head()"
   ]
  },
  {
   "cell_type": "code",
   "execution_count": 5,
   "metadata": {},
   "outputs": [
    {
     "data": {
      "text/html": [
       "<div>\n",
       "<style scoped>\n",
       "    .dataframe tbody tr th:only-of-type {\n",
       "        vertical-align: middle;\n",
       "    }\n",
       "\n",
       "    .dataframe tbody tr th {\n",
       "        vertical-align: top;\n",
       "    }\n",
       "\n",
       "    .dataframe thead th {\n",
       "        text-align: right;\n",
       "    }\n",
       "</style>\n",
       "<table border=\"1\" class=\"dataframe\">\n",
       "  <thead>\n",
       "    <tr style=\"text-align: right;\">\n",
       "      <th></th>\n",
       "      <th>оцінка</th>\n",
       "      <th>вчитель</th>\n",
       "    </tr>\n",
       "  </thead>\n",
       "  <tbody>\n",
       "    <tr>\n",
       "      <th>Алгебра</th>\n",
       "      <td>8</td>\n",
       "      <td>Галина</td>\n",
       "    </tr>\n",
       "    <tr>\n",
       "      <th>Хімія</th>\n",
       "      <td>10</td>\n",
       "      <td>Андрій</td>\n",
       "    </tr>\n",
       "    <tr>\n",
       "      <th>Фізика</th>\n",
       "      <td>6</td>\n",
       "      <td>Антон</td>\n",
       "    </tr>\n",
       "    <tr>\n",
       "      <th>Німецька</th>\n",
       "      <td>7</td>\n",
       "      <td>Ірина</td>\n",
       "    </tr>\n",
       "    <tr>\n",
       "      <th>Англійська</th>\n",
       "      <td>5</td>\n",
       "      <td>Григорій</td>\n",
       "    </tr>\n",
       "  </tbody>\n",
       "</table>\n",
       "</div>"
      ],
      "text/plain": [
       "            оцінка   вчитель\n",
       "Алгебра          8    Галина\n",
       "Хімія           10    Андрій\n",
       "Фізика           6     Антон\n",
       "Німецька         7     Ірина\n",
       "Англійська       5  Григорій"
      ]
     },
     "execution_count": 5,
     "metadata": {},
     "output_type": "execute_result"
    }
   ],
   "source": [
    "schoolMarks.tail()"
   ]
  },
  {
   "cell_type": "code",
   "execution_count": 6,
   "metadata": {},
   "outputs": [
    {
     "data": {
      "text/html": [
       "<div>\n",
       "<style scoped>\n",
       "    .dataframe tbody tr th:only-of-type {\n",
       "        vertical-align: middle;\n",
       "    }\n",
       "\n",
       "    .dataframe tbody tr th {\n",
       "        vertical-align: top;\n",
       "    }\n",
       "\n",
       "    .dataframe thead th {\n",
       "        text-align: right;\n",
       "    }\n",
       "</style>\n",
       "<table border=\"1\" class=\"dataframe\">\n",
       "  <thead>\n",
       "    <tr style=\"text-align: right;\">\n",
       "      <th></th>\n",
       "      <th>оцінка</th>\n",
       "      <th>вчитель</th>\n",
       "    </tr>\n",
       "  </thead>\n",
       "  <tbody>\n",
       "    <tr>\n",
       "      <th>Фізика</th>\n",
       "      <td>6</td>\n",
       "      <td>Антон</td>\n",
       "    </tr>\n",
       "    <tr>\n",
       "      <th>Геометрія</th>\n",
       "      <td>12</td>\n",
       "      <td>Роман</td>\n",
       "    </tr>\n",
       "    <tr>\n",
       "      <th>Хімія</th>\n",
       "      <td>10</td>\n",
       "      <td>Андрій</td>\n",
       "    </tr>\n",
       "  </tbody>\n",
       "</table>\n",
       "</div>"
      ],
      "text/plain": [
       "           оцінка вчитель\n",
       "Фізика          6   Антон\n",
       "Геометрія      12   Роман\n",
       "Хімія          10  Андрій"
      ]
     },
     "execution_count": 6,
     "metadata": {},
     "output_type": "execute_result"
    }
   ],
   "source": [
    "schoolMarks.sample(3)"
   ]
  },
  {
   "cell_type": "code",
   "execution_count": 7,
   "metadata": {},
   "outputs": [
    {
     "data": {
      "text/plain": [
       "Index(['оцінка', 'вчитель'], dtype='object')"
      ]
     },
     "execution_count": 7,
     "metadata": {},
     "output_type": "execute_result"
    }
   ],
   "source": [
    "schoolMarks.columns"
   ]
  },
  {
   "cell_type": "code",
   "execution_count": 8,
   "metadata": {},
   "outputs": [
    {
     "data": {
      "text/plain": [
       "Index(['Геометрія', 'Алгебра', 'Хімія', 'Фізика', 'Німецька', 'Англійська'], dtype='object')"
      ]
     },
     "execution_count": 8,
     "metadata": {},
     "output_type": "execute_result"
    }
   ],
   "source": [
    "schoolMarks.index"
   ]
  },
  {
   "cell_type": "code",
   "execution_count": 9,
   "metadata": {},
   "outputs": [
    {
     "data": {
      "text/html": [
       "<div>\n",
       "<style scoped>\n",
       "    .dataframe tbody tr th:only-of-type {\n",
       "        vertical-align: middle;\n",
       "    }\n",
       "\n",
       "    .dataframe tbody tr th {\n",
       "        vertical-align: top;\n",
       "    }\n",
       "\n",
       "    .dataframe thead th {\n",
       "        text-align: right;\n",
       "    }\n",
       "</style>\n",
       "<table border=\"1\" class=\"dataframe\">\n",
       "  <thead>\n",
       "    <tr style=\"text-align: right;\">\n",
       "      <th></th>\n",
       "      <th>оцінка</th>\n",
       "    </tr>\n",
       "  </thead>\n",
       "  <tbody>\n",
       "    <tr>\n",
       "      <th>count</th>\n",
       "      <td>6.000000</td>\n",
       "    </tr>\n",
       "    <tr>\n",
       "      <th>mean</th>\n",
       "      <td>8.000000</td>\n",
       "    </tr>\n",
       "    <tr>\n",
       "      <th>std</th>\n",
       "      <td>2.607681</td>\n",
       "    </tr>\n",
       "    <tr>\n",
       "      <th>min</th>\n",
       "      <td>5.000000</td>\n",
       "    </tr>\n",
       "    <tr>\n",
       "      <th>25%</th>\n",
       "      <td>6.250000</td>\n",
       "    </tr>\n",
       "    <tr>\n",
       "      <th>50%</th>\n",
       "      <td>7.500000</td>\n",
       "    </tr>\n",
       "    <tr>\n",
       "      <th>75%</th>\n",
       "      <td>9.500000</td>\n",
       "    </tr>\n",
       "    <tr>\n",
       "      <th>max</th>\n",
       "      <td>12.000000</td>\n",
       "    </tr>\n",
       "  </tbody>\n",
       "</table>\n",
       "</div>"
      ],
      "text/plain": [
       "          оцінка\n",
       "count   6.000000\n",
       "mean    8.000000\n",
       "std     2.607681\n",
       "min     5.000000\n",
       "25%     6.250000\n",
       "50%     7.500000\n",
       "75%     9.500000\n",
       "max    12.000000"
      ]
     },
     "execution_count": 9,
     "metadata": {},
     "output_type": "execute_result"
    }
   ],
   "source": [
    "schoolMarks.describe()"
   ]
  },
  {
   "cell_type": "code",
   "execution_count": 10,
   "metadata": {},
   "outputs": [],
   "source": [
    "school = pd.read_csv(\"school.csv\")\n"
   ]
  },
  {
   "cell_type": "code",
   "execution_count": 11,
   "metadata": {},
   "outputs": [
    {
     "data": {
      "text/plain": [
       "Text(0.5, 0, 'Date')"
      ]
     },
     "execution_count": 11,
     "metadata": {},
     "output_type": "execute_result"
    },
    {
     "data": {
      "image/png": "[encoded data removed]",
      "text/plain": [
       "<Figure size 1296x576 with 1 Axes>"
      ]
     },
     "metadata": {
      "needs_background": "light"
     },
     "output_type": "display_data"
    }
   ],
   "source": [
    "plt.figure(figsize =(18,8))\n",
    "\n",
    "plt.title(\"school_analitik\")\n",
    "\n",
    "sns.lineplot(data=school['оцінка'], label=\"Marks\")\n",
    "\n",
    "plt.xlabel(\"Date\")"
   ]
  }
 ],
 "metadata": {
  "kernelspec": {
   "display_name": "Python 3",
   "language": "python",
   "name": "python3"
  },
  "language_info": {
   "codemirror_mode": {
    "name": "ipython",
    "version": 3
   },
   "file_extension": ".py",
   "mimetype": "text/x-python",
   "name": "python",
   "nbconvert_exporter": "python",
   "pygments_lexer": "ipython3",
   "version": "3.7.6"
  }
 },
 "nbformat": 4,
 "nbformat_minor": 4
}
