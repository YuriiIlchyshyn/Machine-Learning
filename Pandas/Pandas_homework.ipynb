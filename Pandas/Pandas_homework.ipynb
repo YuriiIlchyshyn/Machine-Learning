{
 "cells": [
  {
   "cell_type": "code",
   "execution_count": 4,
   "metadata": {},
   "outputs": [
    {
     "data": {
      "text/html": [
       "<div>\n",
       "<style scoped>\n",
       "    .dataframe tbody tr th:only-of-type {\n",
       "        vertical-align: middle;\n",
       "    }\n",
       "\n",
       "    .dataframe tbody tr th {\n",
       "        vertical-align: top;\n",
       "    }\n",
       "\n",
       "    .dataframe thead th {\n",
       "        text-align: right;\n",
       "    }\n",
       "</style>\n",
       "<table border=\"1\" class=\"dataframe\">\n",
       "  <thead>\n",
       "    <tr style=\"text-align: right;\">\n",
       "      <th></th>\n",
       "      <th>студія</th>\n",
       "      <th>жанр</th>\n",
       "      <th>рік виходу</th>\n",
       "      <th>ціна</th>\n",
       "    </tr>\n",
       "  </thead>\n",
       "  <tbody>\n",
       "    <tr>\n",
       "      <th>Майнкрафт</th>\n",
       "      <td>Mojang</td>\n",
       "      <td>Sandbox</td>\n",
       "      <td>2011</td>\n",
       "      <td>250</td>\n",
       "    </tr>\n",
       "    <tr>\n",
       "      <th>Скайрим</th>\n",
       "      <td>Bethesda</td>\n",
       "      <td>RPG</td>\n",
       "      <td>2011</td>\n",
       "      <td>1040</td>\n",
       "    </tr>\n",
       "    <tr>\n",
       "      <th>Fallout 4</th>\n",
       "      <td>Bethesda</td>\n",
       "      <td>Action/RPG</td>\n",
       "      <td>2015</td>\n",
       "      <td>780</td>\n",
       "    </tr>\n",
       "    <tr>\n",
       "      <th>Фортнайт</th>\n",
       "      <td>Epic Games</td>\n",
       "      <td>Survival sandbox</td>\n",
       "      <td>2017</td>\n",
       "      <td>бесплатно</td>\n",
       "    </tr>\n",
       "    <tr>\n",
       "      <th>Калибр</th>\n",
       "      <td>Wargaming.net</td>\n",
       "      <td>шутер от третьего лица</td>\n",
       "      <td>2019</td>\n",
       "      <td>бесплатно</td>\n",
       "    </tr>\n",
       "    <tr>\n",
       "      <th>League of Legends</th>\n",
       "      <td>Riot Games</td>\n",
       "      <td>MOBA</td>\n",
       "      <td>2009</td>\n",
       "      <td>бесплатно</td>\n",
       "    </tr>\n",
       "    <tr>\n",
       "      <th>The Forest</th>\n",
       "      <td>Endnight Games</td>\n",
       "      <td>Survival horror</td>\n",
       "      <td>2014</td>\n",
       "      <td>279</td>\n",
       "    </tr>\n",
       "  </tbody>\n",
       "</table>\n",
       "</div>"
      ],
      "text/plain": [
       "                           студія                    жанр  рік виходу  \\\n",
       "Майнкрафт                  Mojang                 Sandbox        2011   \n",
       "Скайрим                  Bethesda                     RPG        2011   \n",
       "Fallout 4                Bethesda              Action/RPG        2015   \n",
       "Фортнайт               Epic Games        Survival sandbox        2017   \n",
       "Калибр              Wargaming.net  шутер от третьего лица        2019   \n",
       "League of Legends      Riot Games                    MOBA        2009   \n",
       "The Forest         Endnight Games         Survival horror        2014   \n",
       "\n",
       "                        ціна  \n",
       "Майнкрафт                250  \n",
       "Скайрим                 1040  \n",
       "Fallout 4                780  \n",
       "Фортнайт           бесплатно  \n",
       "Калибр             бесплатно  \n",
       "League of Legends  бесплатно  \n",
       "The Forest               279  "
      ]
     },
     "execution_count": 4,
     "metadata": {},
     "output_type": "execute_result"
    }
   ],
   "source": [
    "import pandas as pd\n",
    "\n",
    "Games_list = pd.read_csv(\"games.csv\")\n",
    "Games_list"
   ]
  },
  {
   "cell_type": "code",
   "execution_count": 10,
   "metadata": {},
   "outputs": [
    {
     "data": {
      "text/html": [
       "<div>\n",
       "<style scoped>\n",
       "    .dataframe tbody tr th:only-of-type {\n",
       "        vertical-align: middle;\n",
       "    }\n",
       "\n",
       "    .dataframe tbody tr th {\n",
       "        vertical-align: top;\n",
       "    }\n",
       "\n",
       "    .dataframe thead th {\n",
       "        text-align: right;\n",
       "    }\n",
       "</style>\n",
       "<table border=\"1\" class=\"dataframe\">\n",
       "  <thead>\n",
       "    <tr style=\"text-align: right;\">\n",
       "      <th></th>\n",
       "      <th>студія</th>\n",
       "      <th>жанр</th>\n",
       "      <th>рік виходу</th>\n",
       "      <th>ціна</th>\n",
       "    </tr>\n",
       "  </thead>\n",
       "  <tbody>\n",
       "    <tr>\n",
       "      <th>Майнкрафт</th>\n",
       "      <td>Mojang</td>\n",
       "      <td>Sandbox</td>\n",
       "      <td>2011</td>\n",
       "      <td>250</td>\n",
       "    </tr>\n",
       "  </tbody>\n",
       "</table>\n",
       "</div>"
      ],
      "text/plain": [
       "              студія     жанр  рік виходу ціна\n",
       "Майнкрафт     Mojang  Sandbox        2011  250"
      ]
     },
     "execution_count": 10,
     "metadata": {},
     "output_type": "execute_result"
    }
   ],
   "source": [
    "Games_list.head(1)"
   ]
  },
  {
   "cell_type": "code",
   "execution_count": 13,
   "metadata": {},
   "outputs": [
    {
     "data": {
      "text/html": [
       "<div>\n",
       "<style scoped>\n",
       "    .dataframe tbody tr th:only-of-type {\n",
       "        vertical-align: middle;\n",
       "    }\n",
       "\n",
       "    .dataframe tbody tr th {\n",
       "        vertical-align: top;\n",
       "    }\n",
       "\n",
       "    .dataframe thead th {\n",
       "        text-align: right;\n",
       "    }\n",
       "</style>\n",
       "<table border=\"1\" class=\"dataframe\">\n",
       "  <thead>\n",
       "    <tr style=\"text-align: right;\">\n",
       "      <th></th>\n",
       "      <th>студія</th>\n",
       "      <th>жанр</th>\n",
       "      <th>рік виходу</th>\n",
       "      <th>ціна</th>\n",
       "    </tr>\n",
       "  </thead>\n",
       "  <tbody>\n",
       "    <tr>\n",
       "      <th>The Forest</th>\n",
       "      <td>Endnight Games</td>\n",
       "      <td>Survival horror</td>\n",
       "      <td>2014</td>\n",
       "      <td>279</td>\n",
       "    </tr>\n",
       "  </tbody>\n",
       "</table>\n",
       "</div>"
      ],
      "text/plain": [
       "                    студія             жанр  рік виходу ціна\n",
       "The Forest  Endnight Games  Survival horror        2014  279"
      ]
     },
     "execution_count": 13,
     "metadata": {},
     "output_type": "execute_result"
    }
   ],
   "source": [
    "Games_list.tail(1)"
   ]
  },
  {
   "cell_type": "code",
   "execution_count": 18,
   "metadata": {},
   "outputs": [
    {
     "data": {
      "text/html": [
       "<div>\n",
       "<style scoped>\n",
       "    .dataframe tbody tr th:only-of-type {\n",
       "        vertical-align: middle;\n",
       "    }\n",
       "\n",
       "    .dataframe tbody tr th {\n",
       "        vertical-align: top;\n",
       "    }\n",
       "\n",
       "    .dataframe thead th {\n",
       "        text-align: right;\n",
       "    }\n",
       "</style>\n",
       "<table border=\"1\" class=\"dataframe\">\n",
       "  <thead>\n",
       "    <tr style=\"text-align: right;\">\n",
       "      <th></th>\n",
       "      <th>студія</th>\n",
       "      <th>жанр</th>\n",
       "      <th>рік виходу</th>\n",
       "      <th>ціна</th>\n",
       "    </tr>\n",
       "  </thead>\n",
       "  <tbody>\n",
       "    <tr>\n",
       "      <th>League of Legends</th>\n",
       "      <td>Riot Games</td>\n",
       "      <td>MOBA</td>\n",
       "      <td>2009</td>\n",
       "      <td>бесплатно</td>\n",
       "    </tr>\n",
       "    <tr>\n",
       "      <th>Скайрим</th>\n",
       "      <td>Bethesda</td>\n",
       "      <td>RPG</td>\n",
       "      <td>2011</td>\n",
       "      <td>1040</td>\n",
       "    </tr>\n",
       "    <tr>\n",
       "      <th>Фортнайт</th>\n",
       "      <td>Epic Games</td>\n",
       "      <td>Survival sandbox</td>\n",
       "      <td>2017</td>\n",
       "      <td>бесплатно</td>\n",
       "    </tr>\n",
       "  </tbody>\n",
       "</table>\n",
       "</div>"
      ],
      "text/plain": [
       "                       студія              жанр  рік виходу       ціна\n",
       "League of Legends  Riot Games              MOBA        2009  бесплатно\n",
       "Скайрим              Bethesda               RPG        2011       1040\n",
       "Фортнайт           Epic Games  Survival sandbox        2017  бесплатно"
      ]
     },
     "execution_count": 18,
     "metadata": {},
     "output_type": "execute_result"
    }
   ],
   "source": [
    "Games_list.sample(3)"
   ]
  },
  {
   "cell_type": "code",
   "execution_count": 20,
   "metadata": {},
   "outputs": [
    {
     "data": {
      "text/html": [
       "<div>\n",
       "<style scoped>\n",
       "    .dataframe tbody tr th:only-of-type {\n",
       "        vertical-align: middle;\n",
       "    }\n",
       "\n",
       "    .dataframe tbody tr th {\n",
       "        vertical-align: top;\n",
       "    }\n",
       "\n",
       "    .dataframe thead th {\n",
       "        text-align: right;\n",
       "    }\n",
       "</style>\n",
       "<table border=\"1\" class=\"dataframe\">\n",
       "  <thead>\n",
       "    <tr style=\"text-align: right;\">\n",
       "      <th></th>\n",
       "      <th>рік виходу</th>\n",
       "    </tr>\n",
       "  </thead>\n",
       "  <tbody>\n",
       "    <tr>\n",
       "      <th>count</th>\n",
       "      <td>7.000000</td>\n",
       "    </tr>\n",
       "    <tr>\n",
       "      <th>mean</th>\n",
       "      <td>2013.714286</td>\n",
       "    </tr>\n",
       "    <tr>\n",
       "      <th>std</th>\n",
       "      <td>3.592320</td>\n",
       "    </tr>\n",
       "    <tr>\n",
       "      <th>min</th>\n",
       "      <td>2009.000000</td>\n",
       "    </tr>\n",
       "    <tr>\n",
       "      <th>25%</th>\n",
       "      <td>2011.000000</td>\n",
       "    </tr>\n",
       "    <tr>\n",
       "      <th>50%</th>\n",
       "      <td>2014.000000</td>\n",
       "    </tr>\n",
       "    <tr>\n",
       "      <th>75%</th>\n",
       "      <td>2016.000000</td>\n",
       "    </tr>\n",
       "    <tr>\n",
       "      <th>max</th>\n",
       "      <td>2019.000000</td>\n",
       "    </tr>\n",
       "  </tbody>\n",
       "</table>\n",
       "</div>"
      ],
      "text/plain": [
       "        рік виходу\n",
       "count     7.000000\n",
       "mean   2013.714286\n",
       "std       3.592320\n",
       "min    2009.000000\n",
       "25%    2011.000000\n",
       "50%    2014.000000\n",
       "75%    2016.000000\n",
       "max    2019.000000"
      ]
     },
     "execution_count": 20,
     "metadata": {},
     "output_type": "execute_result"
    }
   ],
   "source": [
    "Games_list.describe()"
   ]
  },
  {
   "cell_type": "code",
   "execution_count": null,
   "metadata": {},
   "outputs": [],
   "source": []
  }
 ],
 "metadata": {
  "kernelspec": {
   "display_name": "Python 3",
   "language": "python",
   "name": "python3"
  },
  "language_info": {
   "codemirror_mode": {
    "name": "ipython",
    "version": 3
   },
   "file_extension": ".py",
   "mimetype": "text/x-python",
   "name": "python",
   "nbconvert_exporter": "python",
   "pygments_lexer": "ipython3",
   "version": "3.7.6"
  }
 },
 "nbformat": 4,
 "nbformat_minor": 4
}
