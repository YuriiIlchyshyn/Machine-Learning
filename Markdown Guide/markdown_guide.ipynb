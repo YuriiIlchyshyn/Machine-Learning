{
 "cells": [
  {
   "cell_type": "markdown",
   "metadata": {},
   "source": [
    "Task\n",
    "З сайту https://www.datacamp.com/community/tutorials/markdown-in-jupyter-notebook показати приклади різних способів відтворення тексту та даних\n",
    "Зробити markdown для \n",
    "* Headings\n",
    "* Blockquotes\n",
    "* Mathematical Symbol\n",
    "* Line Break....\n",
    "\n",
    "Вставити зображення з папки images.\n"
   ]
  }
 ],
 "metadata": {
  "kernelspec": {
   "display_name": "Python 3",
   "language": "python",
   "name": "python3"
  },
  "language_info": {
   "codemirror_mode": {
    "name": "ipython",
    "version": 3
   },
   "file_extension": ".py",
   "mimetype": "text/x-python",
   "name": "python",
   "nbconvert_exporter": "python",
   "pygments_lexer": "ipython3",
   "version": "3.7.6"
  }
 },
 "nbformat": 4,
 "nbformat_minor": 4
}
