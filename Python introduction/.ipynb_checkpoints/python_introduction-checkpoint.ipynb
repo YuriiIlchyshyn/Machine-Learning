{
 "cells": [
  {
   "cell_type": "markdown",
   "metadata": {},
   "source": [
    "#  Вступ до пайтону"
   ]
  },
  {
   "cell_type": "markdown",
   "metadata": {},
   "source": [
    "![title](images/python_intro_logo.png)"
   ]
  },
  {
   "cell_type": "markdown",
   "metadata": {},
   "source": [
    "* Python (найчастіше вживане прочитання — «Па́йтон»,) — **інтерпретована** об'єктно-орієнтована мова програмування.\n",
    "* Інтерпретатор мови програмування (interpreter) — програма транслятор ,який здійснює **построкову обробку**, перетворення у машинний код та виконання програми або запиту (на відміну від компілятора, який транслює у машинні коди всю програму без її виконання). \n",
    "* **IMPORTANT** Висновок: отже пайтон виконує код порядкового , на відміну від C# , який компілює цілу програму."
   ]
  },
  {
   "cell_type": "markdown",
   "metadata": {},
   "source": [
    "### Запуск пайтону за допомогою командної стрічки"
   ]
  },
  {
   "cell_type": "markdown",
   "metadata": {},
   "source": [
    "![title](images/cmd.png)"
   ]
  },
  {
   "cell_type": "markdown",
   "metadata": {},
   "source": [
    "Коли ми встановлюємо пайтон на комп'ютер він записується в системні змінні(це означає що ми можемо запустити його з консолі командою py, або в деяких випадках python)"
   ]
  },
  {
   "cell_type": "markdown",
   "metadata": {},
   "source": [
    "Ми можемо запускати файли з розширенням .py напряму з консолі. Для цього потрібно запустити командну стрічку в папці з файлом пайтону і написати наприклад \n",
    "```\n",
    "py hello.py \n",
    "```\n",
    "тобто py назва файлу.py"
   ]
  },
  {
   "cell_type": "markdown",
   "metadata": {},
   "source": [
    "### Типи даних в пайтоні"
   ]
  },
  {
   "cell_type": "code",
   "execution_count": 8,
   "metadata": {},
   "outputs": [
    {
     "name": "stdout",
     "output_type": "stream",
     "text": [
      "True\n"
     ]
    }
   ],
   "source": [
    "# Булевий тип\n",
    "# Може набувати значення True або False, також є значення None - це спеціальне значення яке відображає нічого\n",
    "# Приклади\n",
    "isHomeworkCompleted = False # Домашня робота не готова\n",
    "homework = 2 + 5 # Робимо її\n",
    "if(homework != None): # Умова чи змінна homework не пуста\n",
    "    isHomeworkCompleted = True # Якщо не пуста то присвоїти true готовності домашньої роботи\n",
    "print(isHomeworkCompleted)"
   ]
  },
  {
   "cell_type": "code",
   "execution_count": null,
   "metadata": {},
   "outputs": [],
   "source": []
  }
 ],
 "metadata": {
  "kernelspec": {
   "display_name": "Python 3",
   "language": "python",
   "name": "python3"
  },
  "language_info": {
   "codemirror_mode": {
    "name": "ipython",
    "version": 3
   },
   "file_extension": ".py",
   "mimetype": "text/x-python",
   "name": "python",
   "nbconvert_exporter": "python",
   "pygments_lexer": "ipython3",
   "version": "3.7.4"
  }
 },
 "nbformat": 4,
 "nbformat_minor": 4
}
