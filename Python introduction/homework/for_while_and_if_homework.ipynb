{
 "cells": [
  {
   "cell_type": "markdown",
   "metadata": {},
   "source": [
    "# Цикли і умови в пайтоні \n",
    "## Домашнє завдання"
   ]
  },
  {
   "cell_type": "markdown",
   "metadata": {},
   "source": [
    "## Task 1\n",
    "* Дано масив з учнів в класі\n",
    "* Порахувати кількість учнів\n",
    "* Вивести так , якщо в класі є учень з ім'ям Олег , ні якщо немає\n",
    "* Порахувати кількість учнів імена яких починаються з букви А"
   ]
  },
  {
   "cell_type": "code",
   "execution_count": 70,
   "metadata": {},
   "outputs": [
    {
     "name": "stdout",
     "output_type": "stream",
     "text": [
      "A\n",
      "5\n",
      "False\n",
      "['Andriy', 'Artem', 'Axel', 'Olena', 'Ihor']\n",
      "0\n"
     ]
    }
   ],
   "source": [
    "classroom = [\"Andriy\" , \"Artem\" , \"Axel\" , \"Olena\" , \"Ihor\"]\n",
    "lenghth_classroom = 0\n",
    "lenghth_classroom_a = 0\n",
    "name = \"Andriy\"\n",
    "print(name[0])\n",
    "for i in classroom:\n",
    "    lenghth_classroom = lenghth_classroom + 1\n",
    "print(lenghth_classroom)\n",
    "#for x in [classroom]:\n",
    "#    if \"Oleg\" in x:\n",
    " #       print(\"yes\")\n",
    "isOlegIn = \"Oleg\" in classroom\n",
    "print(isOlegIn)\n",
    "for x in [classroom]:\n",
    "    print(x)\n",
    "    if \"Andriy\" or \"Artem\" or \"Axel\" in x:\n",
    "        lenghth_classroom_a = lenghth_classroom_a + 1  \n",
    "print (lenghth_classroom_a)         "
   ]
  },
  {
   "cell_type": "markdown",
   "metadata": {},
   "source": [
    "## Task 2\n",
    "* Дана стрічка\n",
    "* Вивести перше слово та останнє"
   ]
  },
  {
   "cell_type": "code",
   "execution_count": 74,
   "metadata": {
    "scrolled": true
   },
   "outputs": [
    {
     "name": "stdout",
     "output_type": "stream",
     "text": [
      "Бьякуган\n",
      "Рінеган\n"
     ]
    }
   ],
   "source": [
    "message = \"Бьякуган\",\"Шарінган\", \"Рінеган\"\n",
    "print(message[0])\n",
    "print(message[-1])\n",
    "# message[-1] - останній елемент"
   ]
  },
  {
   "cell_type": "markdown",
   "metadata": {},
   "source": [
    "## Task 3\n",
    "* Є 2 числа \n",
    "* порівняти , яке з них більше\n",
    "* можливо вони рівні?\n",
    "* перевірити 3 різні випадки"
   ]
  },
  {
   "cell_type": "code",
   "execution_count": 75,
   "metadata": {},
   "outputs": [
    {
     "name": "stdout",
     "output_type": "stream",
     "text": [
      "True\n"
     ]
    }
   ],
   "source": [
    "# перший\n",
    "a = 5\n",
    "c = 5.5\n",
    "if a < c:\n",
    "    print(a < c)\n",
    "if a > c:\n",
    "    print(a > c)\n",
    "if a == c:\n",
    "    print(a == c)  "
   ]
  },
  {
   "cell_type": "code",
   "execution_count": 76,
   "metadata": {},
   "outputs": [
    {
     "name": "stdout",
     "output_type": "stream",
     "text": [
      "True\n"
     ]
    }
   ],
   "source": [
    "# другий\n",
    "b = 10\n",
    "g = 10\n",
    "if b < g:\n",
    "    print(b < g)\n",
    "if b > g:\n",
    "    print(b > g)\n",
    "if b == g:\n",
    "    print(b == g)  "
   ]
  },
  {
   "cell_type": "code",
   "execution_count": 77,
   "metadata": {},
   "outputs": [
    {
     "name": "stdout",
     "output_type": "stream",
     "text": [
      "True\n"
     ]
    }
   ],
   "source": [
    "# третій\n",
    "p = 3.14\n",
    "pi = 3.1415\n",
    "if p < pi:\n",
    "    print(p < pi)\n",
    "if p > pi:\n",
    "    print(p > pi)\n",
    "if p == pi:\n",
    "    print(p == pi)  "
   ]
  }
 ],
 "metadata": {
  "kernelspec": {
   "display_name": "Python 3",
   "language": "python",
   "name": "python3"
  },
  "language_info": {
   "codemirror_mode": {
    "name": "ipython",
    "version": 3
   },
   "file_extension": ".py",
   "mimetype": "text/x-python",
   "name": "python",
   "nbconvert_exporter": "python",
   "pygments_lexer": "ipython3",
   "version": "3.7.6"
  }
 },
 "nbformat": 4,
 "nbformat_minor": 4
}
