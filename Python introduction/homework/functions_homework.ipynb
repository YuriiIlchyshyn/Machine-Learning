{
 "cells": [
  {
   "cell_type": "markdown",
   "metadata": {},
   "source": [
    "# Функції домашнє завдання\n"
   ]
  },
  {
   "cell_type": "code",
   "execution_count": 1,
   "metadata": {},
   "outputs": [
    {
     "name": "stdout",
     "output_type": "stream",
     "text": [
      "5\n"
     ]
    }
   ],
   "source": [
    "# Функція\n",
    "def summa(a,b):\n",
    "    return a + b\n",
    "print(summa(2,3))"
   ]
  },
  {
   "cell_type": "markdown",
   "metadata": {},
   "source": [
    "## Task 1\n",
    "* Написати функцію для обрахування площі кола"
   ]
  },
  {
   "cell_type": "code",
   "execution_count": 2,
   "metadata": {},
   "outputs": [
    {
     "name": "stdout",
     "output_type": "stream",
     "text": [
      "78.59899999999999\n"
     ]
    }
   ],
   "source": [
    "pi =3.14396\n",
    "def plosha(radius):\n",
    "    return pi * radius**2\n",
    "# pi * r**2\n",
    "radius = 5\n",
    "print(plosha(radius))"
   ]
  },
  {
   "cell_type": "markdown",
   "metadata": {},
   "source": [
    "## Task 2\n",
    "* Написати функцію калькулятор\n",
    "* Перших два значення повинні бути числа а третє - дія\n",
    "* Повинні підтримуватись тільки додавання , віднімання\n",
    "* Тестові дані і початок функції внизу"
   ]
  },
  {
   "cell_type": "code",
   "execution_count": 5,
   "metadata": {},
   "outputs": [
    {
     "name": "stdout",
     "output_type": "stream",
     "text": [
      "-1\n"
     ]
    }
   ],
   "source": [
    "a = 2\n",
    "b = 3\n",
    "action = \"add\"\n",
    "def calculator(a,b,action):\n",
    "    if(action == \"add\"):\n",
    "        return a + b\n",
    "    if(action == \"min\"):\n",
    "        return a - b\n",
    "print(calculator(a,b,action))    "
   ]
  },
  {
   "cell_type": "code",
   "execution_count": null,
   "metadata": {},
   "outputs": [],
   "source": []
  },
  {
   "cell_type": "code",
   "execution_count": null,
   "metadata": {},
   "outputs": [],
   "source": []
  }
 ],
 "metadata": {
  "kernelspec": {
   "display_name": "Python 3",
   "language": "python",
   "name": "python3"
  },
  "language_info": {
   "codemirror_mode": {
    "name": "ipython",
    "version": 3
   },
   "file_extension": ".py",
   "mimetype": "text/x-python",
   "name": "python",
   "nbconvert_exporter": "python",
   "pygments_lexer": "ipython3",
   "version": "3.7.6"
  }
 },
 "nbformat": 4,
 "nbformat_minor": 4
}
