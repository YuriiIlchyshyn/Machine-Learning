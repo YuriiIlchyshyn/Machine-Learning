{
 "cells": [
  {
   "cell_type": "markdown",
   "metadata": {},
   "source": [
    "# Цикли в пайтоні\n",
    "* **for** створений для того щоб переглянути всі елементи в списку , масиві\n",
    "* **while** виконується поки є якась умова\n",
    "![title](images/loops_logo.jpg)"
   ]
  },
  {
   "cell_type": "markdown",
   "metadata": {},
   "source": [
    "## Цикл For"
   ]
  },
  {
   "cell_type": "code",
   "execution_count": 1,
   "metadata": {},
   "outputs": [
    {
     "name": "stdout",
     "output_type": "stream",
     "text": [
      "10\n",
      "11\n",
      "12\n",
      "8\n",
      "9\n",
      "7\n"
     ]
    }
   ],
   "source": [
    "# Ініціалізація списку\n",
    "marks = [10,11,12,8,9,7]\n",
    "# Цикл for\n",
    "# for змінна in список:\n",
    "    # команда           ОБОВ'ЯЗКОВО РОБИТИ ВІДСТУП\n",
    "for i in marks:\n",
    "    print(i)"
   ]
  },
  {
   "cell_type": "code",
   "execution_count": 2,
   "metadata": {},
   "outputs": [
    {
     "name": "stdout",
     "output_type": "stream",
     "text": [
      "0 0 0\n",
      "1 1 1\n",
      "2 4 8\n",
      "3 9 27\n",
      "4 16 64\n",
      "5 25 125\n",
      "6 36 216\n",
      "7 49 343\n",
      "8 64 512\n",
      "9 81 729\n"
     ]
    }
   ],
   "source": [
    "# від 0 до 10\n",
    "for i  in range(10):\n",
    "   print(i, i*i, i*i*i)"
   ]
  },
  {
   "cell_type": "code",
   "execution_count": 3,
   "metadata": {},
   "outputs": [
    {
     "name": "stdout",
     "output_type": "stream",
     "text": [
      "5\n",
      "6\n",
      "7\n",
      "8\n",
      "9\n"
     ]
    }
   ],
   "source": [
    "# Припустимо нам потрібні числа від 5 до 10\n",
    "for i in range(5,10):\n",
    "    print(i)"
   ]
  },
  {
   "cell_type": "markdown",
   "metadata": {},
   "source": [
    "* Виберемо зі списку всі імена , в яких більше 5 букв"
   ]
  },
  {
   "cell_type": "code",
   "execution_count": 4,
   "metadata": {},
   "outputs": [
    {
     "name": "stdout",
     "output_type": "stream",
     "text": [
      "Name:  Kevin  has less than 5 letters\n",
      "Name:  Lukas  has less than 5 letters\n",
      "Name:  Taras  has less than 5 letters\n",
      "Michael\n",
      "Name:  Chloe  has less than 5 letters\n",
      "Eugene\n"
     ]
    }
   ],
   "source": [
    "names = [\"Kevin\",\"Lukas\",\"Taras\",\"Michael\",\"Chloe\",\"Eugene\"]\n",
    "for name in names:\n",
    "    if(len(name) > 5):\n",
    "        print(name)\n",
    "    else:\n",
    "        print(\"Name: \",name,\" has less than 5 letters\")"
   ]
  },
  {
   "cell_type": "markdown",
   "metadata": {},
   "source": [
    "### Згадаємо як ми рахували суму чисел в C sharp"
   ]
  },
  {
   "cell_type": "code",
   "execution_count": 5,
   "metadata": {},
   "outputs": [
    {
     "name": "stdout",
     "output_type": "stream",
     "text": [
      "55\n"
     ]
    }
   ],
   "source": [
    "numbers = [1,2,3,4,5,6,7,8,9,10]\n",
    "summa = 0\n",
    "for i in numbers:\n",
    "    summa += i\n",
    "print(summa)"
   ]
  },
  {
   "cell_type": "markdown",
   "metadata": {},
   "source": [
    "### Пайтон може швидше?"
   ]
  },
  {
   "cell_type": "code",
   "execution_count": 6,
   "metadata": {},
   "outputs": [
    {
     "data": {
      "text/plain": [
       "55"
      ]
     },
     "execution_count": 6,
     "metadata": {},
     "output_type": "execute_result"
    }
   ],
   "source": [
    "sum(numbers)"
   ]
  },
  {
   "cell_type": "markdown",
   "metadata": {},
   "source": [
    "## Цикл While"
   ]
  },
  {
   "cell_type": "code",
   "execution_count": 7,
   "metadata": {},
   "outputs": [
    {
     "data": {
      "text/plain": [
       "[1, 2, 3, 4, 5, 6, 7, 8, 9, 10]"
      ]
     },
     "execution_count": 7,
     "metadata": {},
     "output_type": "execute_result"
    }
   ],
   "source": [
    "# Візьмемо вже знайомий нам список чисел\n",
    "numbers"
   ]
  },
  {
   "cell_type": "code",
   "execution_count": 8,
   "metadata": {},
   "outputs": [
    {
     "name": "stdout",
     "output_type": "stream",
     "text": [
      "2\n",
      "3\n",
      "4\n",
      "5\n",
      "6\n",
      "7\n",
      "8\n",
      "9\n",
      "10\n"
     ]
    }
   ],
   "source": [
    "# Потестуємо While на простій програмці поки перше число в списку не буде більше за останнє\n",
    "# будемо збільшувати його на 1 на кожному кроці\n",
    "while numbers[0] < numbers[-1]:\n",
    "    numbers[0] += 1\n",
    "    print(numbers[0])"
   ]
  },
  {
   "cell_type": "markdown",
   "metadata": {},
   "source": [
    "### Порахуємо кількість парних і непарних чисел двома способами\n",
    "* Циклом **for**\n",
    "* Циклом **while**"
   ]
  },
  {
   "cell_type": "code",
   "execution_count": 9,
   "metadata": {},
   "outputs": [
    {
     "name": "stdout",
     "output_type": "stream",
     "text": [
      "Парних:  6  Непарних:  4\n"
     ]
    }
   ],
   "source": [
    "# знак рівності == поверне нам bool значення тобто true або false\n",
    "parni = 0\n",
    "neparni = 0\n",
    "for i in numbers:\n",
    "    if(i%2==0):\n",
    "        parni += 1\n",
    "    else:\n",
    "        neparni += 1\n",
    "print(\"Парних: \",parni,\" Непарних: \", neparni)"
   ]
  },
  {
   "cell_type": "code",
   "execution_count": 10,
   "metadata": {},
   "outputs": [
    {
     "name": "stdout",
     "output_type": "stream",
     "text": [
      "Парних:  6  Непарних:  4\n"
     ]
    }
   ],
   "source": [
    "# Потрібно якось пройтись по елементах введемо своє i яке будемо збільшувати\n",
    "while(i < len(numbers)): \n",
    "    if numbers[i] % 2 == 0: \n",
    "        parni += 1\n",
    "    else: \n",
    "        neparni += 1 \n",
    "    i += 1 # збільшуємо i\n",
    "print(\"Парних: \",parni,\" Непарних: \", neparni)"
   ]
  },
  {
   "cell_type": "markdown",
   "metadata": {},
   "source": [
    "## Приклади continue і break"
   ]
  },
  {
   "cell_type": "markdown",
   "metadata": {},
   "source": [
    "Цикл **while** використовується для повторного виконання інструкції до тих пір, поки умова істинна. На відміну від **for** , **while** не пов'язаний з якою-небудь послідовністю. Ось простий приклад, щоб роздрукувати всі парні числа, менші 100."
   ]
  },
  {
   "cell_type": "markdown",
   "metadata": {},
   "source": [
    "У цьому прикладі ми встановлюємо лічильник i. Тоді ми встановлюємо в циклі while умову виконання i <= 100, наш код виконується поки результат умови істинний (true). Потім перевіряємо нашу змінну на парність, виконуючи ділення по модулю. В кінці нам потрібно вручну збільшити наш лічильникi = i + 1. Таким чином в кожній ітерації значення i буде збільшуватися на 1."
   ]
  },
  {
   "cell_type": "code",
   "execution_count": 11,
   "metadata": {},
   "outputs": [
    {
     "name": "stdout",
     "output_type": "stream",
     "text": [
      "0\n",
      "2\n",
      "4\n",
      "6\n",
      "8\n",
      "10\n",
      "12\n",
      "14\n",
      "16\n",
      "18\n",
      "20\n",
      "22\n",
      "24\n",
      "26\n",
      "28\n",
      "30\n",
      "32\n",
      "34\n",
      "36\n",
      "38\n",
      "40\n",
      "42\n",
      "44\n",
      "46\n",
      "48\n",
      "50\n",
      "52\n",
      "54\n",
      "56\n",
      "58\n",
      "60\n",
      "62\n",
      "64\n",
      "66\n",
      "68\n",
      "70\n",
      "72\n",
      "74\n",
      "76\n",
      "78\n",
      "80\n",
      "82\n",
      "84\n",
      "86\n",
      "88\n",
      "90\n",
      "92\n",
      "94\n",
      "96\n",
      "98\n",
      "100\n"
     ]
    }
   ],
   "source": [
    "i = 0\n",
    "while i <= 100:\n",
    "    if i % 2 == 0:\n",
    "        print(i)\n",
    "    i = i + 1 # або i += 1"
   ]
  },
  {
   "cell_type": "markdown",
   "metadata": {},
   "source": [
    "## Continue в циклах"
   ]
  },
  {
   "cell_type": "markdown",
   "metadata": {},
   "source": [
    "Іноді ви хочете перейти до наступної ітерації без виконання деякого коду. Continue можна використовувати, як в for, так і в while. Ми можемо переписати попередній приклад з використанням continue:"
   ]
  },
  {
   "cell_type": "markdown",
   "metadata": {},
   "source": [
    "Цей приклад робить те ж саме, за винятком того, що ми використовуємо for і range. Range дає нам ряд чисел від 0 до 100. Замість друку парних чисел ми переходимо до наступної ітерації, якщо це непарне число. **Continue** означає, що код нижче нього не буде виконуватися, а замість цього ми перейдемо до наступної ітерації циклу."
   ]
  },
  {
   "cell_type": "code",
   "execution_count": 12,
   "metadata": {},
   "outputs": [
    {
     "name": "stdout",
     "output_type": "stream",
     "text": [
      "0\n",
      "2\n",
      "4\n",
      "6\n",
      "8\n",
      "10\n",
      "12\n",
      "14\n",
      "16\n",
      "18\n",
      "20\n",
      "22\n",
      "24\n",
      "26\n",
      "28\n",
      "30\n",
      "32\n",
      "34\n",
      "36\n",
      "38\n",
      "40\n",
      "42\n",
      "44\n",
      "46\n",
      "48\n",
      "50\n",
      "52\n",
      "54\n",
      "56\n",
      "58\n",
      "60\n",
      "62\n",
      "64\n",
      "66\n",
      "68\n",
      "70\n",
      "72\n",
      "74\n",
      "76\n",
      "78\n",
      "80\n",
      "82\n",
      "84\n",
      "86\n",
      "88\n",
      "90\n",
      "92\n",
      "94\n",
      "96\n",
      "98\n"
     ]
    }
   ],
   "source": [
    "for item in range(100):\n",
    "        if not item % 2 == 0: # Якщо непарне то пропустити крок\n",
    "            continue # пропуск\n",
    "        print(item) # вивід наступного парного"
   ]
  },
  {
   "cell_type": "markdown",
   "metadata": {},
   "source": [
    "## Break"
   ]
  },
  {
   "cell_type": "code",
   "execution_count": 13,
   "metadata": {},
   "outputs": [
    {
     "name": "stdout",
     "output_type": "stream",
     "text": [
      "s\n",
      "t\n",
      "r\n",
      "The end\n"
     ]
    }
   ],
   "source": [
    "# Приклад брейку\n",
    "for val in \"string\":\n",
    "    if val == \"i\":\n",
    "        break\n",
    "    print(val)\n",
    "\n",
    "print(\"The end\")"
   ]
  },
  {
   "cell_type": "code",
   "execution_count": null,
   "metadata": {},
   "outputs": [],
   "source": []
  }
 ],
 "metadata": {
  "kernelspec": {
   "display_name": "Python 3",
   "language": "python",
   "name": "python3"
  },
  "language_info": {
   "codemirror_mode": {
    "name": "ipython",
    "version": 3
   },
   "file_extension": ".py",
   "mimetype": "text/x-python",
   "name": "python",
   "nbconvert_exporter": "python",
   "pygments_lexer": "ipython3",
   "version": "3.7.6"
  }
 },
 "nbformat": 4,
 "nbformat_minor": 4
}
